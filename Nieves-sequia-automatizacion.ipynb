{
 "cells": [
  {
   "cell_type": "code",
   "execution_count": 15,
   "metadata": {},
   "outputs": [
    {
     "ename": "ModuleNotFoundError",
     "evalue": "No module named 'ee'",
     "output_type": "error",
     "traceback": [
      "\u001b[1;31m---------------------------------------------------------------------------\u001b[0m",
      "\u001b[1;31mModuleNotFoundError\u001b[0m                       Traceback (most recent call last)",
      "\u001b[1;32m<ipython-input-15-a2a8a76cecf4>\u001b[0m in \u001b[0;36m<module>\u001b[1;34m\u001b[0m\n\u001b[1;32m----> 1\u001b[1;33m \u001b[1;32mimport\u001b[0m \u001b[0mee\u001b[0m\u001b[1;33m\u001b[0m\u001b[1;33m\u001b[0m\u001b[0m\n\u001b[0m\u001b[0;32m      2\u001b[0m \u001b[1;32mimport\u001b[0m \u001b[0mdatetime\u001b[0m\u001b[1;33m\u001b[0m\u001b[1;33m\u001b[0m\u001b[0m\n\u001b[0;32m      3\u001b[0m \u001b[1;32mimport\u001b[0m \u001b[0mgeemap\u001b[0m\u001b[1;33m\u001b[0m\u001b[1;33m\u001b[0m\u001b[0m\n\u001b[0;32m      4\u001b[0m \u001b[1;32mimport\u001b[0m \u001b[0mgeetools\u001b[0m\u001b[1;33m\u001b[0m\u001b[1;33m\u001b[0m\u001b[0m\n",
      "\u001b[1;31mModuleNotFoundError\u001b[0m: No module named 'ee'"
     ]
    }
   ],
   "source": [
    "import ee\n",
    "import datetime\n",
    "import geemap\n",
    "import geetools"
   ]
  },
  {
   "cell_type": "code",
   "execution_count": 12,
   "metadata": {},
   "outputs": [
    {
     "ename": "NameError",
     "evalue": "name 'ee' is not defined",
     "output_type": "error",
     "traceback": [
      "\u001b[1;31m---------------------------------------------------------------------------\u001b[0m",
      "\u001b[1;31mNameError\u001b[0m                                 Traceback (most recent call last)",
      "\u001b[1;32m<ipython-input-12-6646075e38b2>\u001b[0m in \u001b[0;36m<module>\u001b[1;34m\u001b[0m\n\u001b[0;32m      1\u001b[0m \u001b[1;31m# Autorizar acceso a Google Earth Engine\u001b[0m\u001b[1;33m\u001b[0m\u001b[1;33m\u001b[0m\u001b[1;33m\u001b[0m\u001b[0m\n\u001b[1;32m----> 2\u001b[1;33m \u001b[0mee\u001b[0m\u001b[1;33m.\u001b[0m\u001b[0mInitialize\u001b[0m\u001b[1;33m(\u001b[0m\u001b[1;33m)\u001b[0m\u001b[1;33m\u001b[0m\u001b[1;33m\u001b[0m\u001b[0m\n\u001b[0m",
      "\u001b[1;31mNameError\u001b[0m: name 'ee' is not defined"
     ]
    }
   ],
   "source": [
    "# Autorizar acceso a Google Earth Engine\n",
    "ee.Initialize()"
   ]
  },
  {
   "cell_type": "code",
   "execution_count": 10,
   "metadata": {},
   "outputs": [
    {
     "ename": "NameError",
     "evalue": "name 'ee' is not defined",
     "output_type": "error",
     "traceback": [
      "\u001b[1;31m---------------------------------------------------------------------------\u001b[0m",
      "\u001b[1;31mNameError\u001b[0m                                 Traceback (most recent call last)",
      "\u001b[1;32m<ipython-input-10-b2749f0096d0>\u001b[0m in \u001b[0;36m<module>\u001b[1;34m\u001b[0m\n\u001b[0;32m      1\u001b[0m \u001b[1;31m################################################## Data #######################################################################\u001b[0m\u001b[1;33m\u001b[0m\u001b[1;33m\u001b[0m\u001b[1;33m\u001b[0m\u001b[0m\n\u001b[0;32m      2\u001b[0m \u001b[1;31m# ID asset gee\u001b[0m\u001b[1;33m\u001b[0m\u001b[1;33m\u001b[0m\u001b[1;33m\u001b[0m\u001b[0m\n\u001b[1;32m----> 3\u001b[1;33m \u001b[0mterritorio_nacional\u001b[0m \u001b[1;33m=\u001b[0m \u001b[0mee\u001b[0m\u001b[1;33m.\u001b[0m\u001b[0mFeatureCollection\u001b[0m\u001b[1;33m(\u001b[0m\u001b[1;34m'users/proyectosequiateleamb/Regiones/DPA_regiones_nacional'\u001b[0m\u001b[1;33m)\u001b[0m\u001b[1;33m\u001b[0m\u001b[1;33m\u001b[0m\u001b[0m\n\u001b[0m\u001b[0;32m      4\u001b[0m \u001b[1;33m\u001b[0m\u001b[0m\n\u001b[0;32m      5\u001b[0m \u001b[1;31m# Colecciones de imagenes MODIS\u001b[0m\u001b[1;33m\u001b[0m\u001b[1;33m\u001b[0m\u001b[1;33m\u001b[0m\u001b[0m\n",
      "\u001b[1;31mNameError\u001b[0m: name 'ee' is not defined"
     ]
    }
   ],
   "source": [
    "################################################## Data #######################################################################\n",
    "# ID asset gee\n",
    "territorio_nacional = ee.FeatureCollection('users/proyectosequiateleamb/Regiones/DPA_regiones_nacional')\n",
    "\n",
    "# Colecciones de imagenes MODIS\n",
    "MODIScollection = (ee.ImageCollection('MODIS/006/MOD10A1'))\n",
    "\n",
    "# Se ordena la coleccion para que muestre la ultima imagen\n",
    "MODISsorted = MODIScollection.sort('system:time_start', False).first()\n",
    "\n",
    "# Muestra la fecha actual\n",
    "currentDate = ee.Date(MODISsorted.get('system:time_start'))\n",
    "\n",
    "# Muestra el mes anterior\n",
    "Month = currentDate.getRelative('month', 'year');\n",
    "\n",
    "# Muestra el año actual\n",
    "YearCurrent = currentDate.get('year');\n",
    "\n",
    "info1 = currentDate.getInfo()\n",
    "print(info1)\n",
    "\n",
    "info2 = Month.getInfo()\n",
    "print(info2)\n",
    "\n",
    "info3 = YearCurrent.getInfo()\n",
    "print(info3)"
   ]
  },
  {
   "cell_type": "code",
   "execution_count": 19,
   "metadata": {
    "scrolled": false
   },
   "outputs": [
    {
     "ename": "NameError",
     "evalue": "name 'MODIScollection' is not defined",
     "output_type": "error",
     "traceback": [
      "\u001b[1;31m---------------------------------------------------------------------------\u001b[0m",
      "\u001b[1;31mNameError\u001b[0m                                 Traceback (most recent call last)",
      "\u001b[1;32m~\\AppData\\Local\\Temp\\ipykernel_18268\\3280737759.py\u001b[0m in \u001b[0;36m<module>\u001b[1;34m\u001b[0m\n\u001b[0;32m     11\u001b[0m \u001b[1;33m\u001b[0m\u001b[0m\n\u001b[0;32m     12\u001b[0m \u001b[1;31m# Coleccion con banda de nieve binario y nubes\u001b[0m\u001b[1;33m\u001b[0m\u001b[1;33m\u001b[0m\u001b[0m\n\u001b[1;32m---> 13\u001b[1;33m \u001b[0mSnow_cloud_collection\u001b[0m \u001b[1;33m=\u001b[0m \u001b[0mMODIScollection\u001b[0m\u001b[1;33m.\u001b[0m\u001b[0mmap\u001b[0m\u001b[1;33m(\u001b[0m\u001b[0msnowcloudMask\u001b[0m\u001b[1;33m)\u001b[0m\u001b[1;33m.\u001b[0m\u001b[0mselect\u001b[0m\u001b[1;33m(\u001b[0m\u001b[1;34m'SCI'\u001b[0m\u001b[1;33m,\u001b[0m \u001b[1;34m'CCI'\u001b[0m\u001b[1;33m)\u001b[0m\u001b[1;33m;\u001b[0m\u001b[1;33m\u001b[0m\u001b[1;33m\u001b[0m\u001b[0m\n\u001b[0m\u001b[0;32m     14\u001b[0m \u001b[1;33m\u001b[0m\u001b[0m\n\u001b[0;32m     15\u001b[0m \u001b[1;31m#print(Snow_cloud_collection)\u001b[0m\u001b[1;33m\u001b[0m\u001b[1;33m\u001b[0m\u001b[0m\n",
      "\u001b[1;31mNameError\u001b[0m: name 'MODIScollection' is not defined"
     ]
    }
   ],
   "source": [
    "################################################## Function #######################################################################\n",
    "# Se define umbral NDSI\n",
    "umbralNDSI = 40\n",
    "\n",
    "# Se define una funcion para calcular SCI y CCI // En las funciones se debe tener consideracion con sagria en python\n",
    "def snowcloudMask(image): \n",
    "    snow = image.select('NDSI_Snow_Cover').gte(umbralNDSI).multiply(100).rename('SCI')\n",
    "    cloud = image.select('Snow_Albedo_Daily_Tile_Class').eq(150).multiply(100).rename('CCI')\n",
    "    \n",
    "    return image.addBands(snow).addBands(cloud)\n",
    "\n",
    "# Coleccion con banda de nieve binario y nubes\n",
    "Snow_cloud_collection = MODIScollection.map(snowcloudMask).select('SCI', 'CCI');\n",
    "\n",
    "#print(Snow_cloud_collection)\n",
    "\n",
    "info4 = Snow_cloud_collection.first().getInfo()\n",
    "print(info4)"
   ]
  },
  {
   "cell_type": "code",
   "execution_count": 5,
   "metadata": {},
   "outputs": [
    {
     "name": "stdout",
     "output_type": "stream",
     "text": [
      "[2022]\n",
      "[10]\n"
     ]
    }
   ],
   "source": [
    "############################################# Composition year and monthly #####################################################\n",
    "# Lista de sequencia anual y mensual\n",
    "years = ee.List.sequence(YearCurrent, YearCurrent);\n",
    "months = ee.List.sequence(Month, Month);\n",
    "\n",
    "info5 = years.getInfo()\n",
    "print(info5)\n",
    "\n",
    "info6 = months.getInfo()\n",
    "print(info6)"
   ]
  },
  {
   "cell_type": "code",
   "execution_count": 20,
   "metadata": {},
   "outputs": [],
   "source": [
    "# Asigne una funcion para seleccionar datos dentro del año y aplique el reductor por promedio \n",
    "# Como resultado generara una nueva coleccion del promedio NDSI binario año y mes\n",
    "def function1(y):\n",
    "    def function2(m):\n",
    "        return Snow_cloud_collection.filter(ee.Filter.calendarRange(y, y, 'year')).filter(ee.Filter.calendarRange(m, m, 'month')).mean().set('month', m).set('year', y).set('system:time_start', ee.Date.fromYMD(y, m, 1).format('YYYY-MM'));\n",
    "    return months.map(function2)\n",
    "\n",
    "MonthYearcollection = ee.ImageCollection.fromImages(years.map(function1).flatten())"
   ]
  },
  {
   "cell_type": "code",
   "execution_count": 21,
   "metadata": {},
   "outputs": [
    {
     "name": "stdout",
     "output_type": "stream",
     "text": [
      "{'type': 'ImageCollection', 'bands': [], 'features': [{'type': 'Image', 'bands': [{'id': 'SCI', 'data_type': {'type': 'PixelType', 'precision': 'double', 'min': 0, 'max': 100}, 'crs': 'EPSG:4326', 'crs_transform': [1, 0, 0, 0, 1, 0]}, {'id': 'CCI', 'data_type': {'type': 'PixelType', 'precision': 'double', 'min': 0, 'max': 100}, 'crs': 'EPSG:4326', 'crs_transform': [1, 0, 0, 0, 1, 0]}], 'properties': {'system:time_start': '2022-10', 'month': 10, 'year': 2022, 'system:index': '0'}}]}\n"
     ]
    }
   ],
   "source": [
    "print(MonthYearcollection.getInfo())"
   ]
  },
  {
   "cell_type": "code",
   "execution_count": 22,
   "metadata": {},
   "outputs": [
    {
     "name": "stdout",
     "output_type": "stream",
     "text": [
      "{'type': 'Image', 'bands': [{'id': 'SCI', 'data_type': {'type': 'PixelType', 'precision': 'double', 'min': 0, 'max': 100}, 'crs': 'EPSG:4326', 'crs_transform': [1, 0, 0, 0, 1, 0]}, {'id': 'CCI', 'data_type': {'type': 'PixelType', 'precision': 'double', 'min': 0, 'max': 100}, 'crs': 'EPSG:4326', 'crs_transform': [1, 0, 0, 0, 1, 0]}], 'properties': {'system:time_start': '2022-10', 'month': 10, 'year': 2022, 'system:index': '0'}}\n"
     ]
    }
   ],
   "source": [
    "# Muestra la ultima imagen con el promedio de sci y cci\n",
    "last_image = MonthYearcollection.first()\n",
    "print(last_image.getInfo())"
   ]
  },
  {
   "cell_type": "code",
   "execution_count": 35,
   "metadata": {},
   "outputs": [],
   "source": [
    "# Exportar ultima imagen de la coleccion a carpeta de Google Drive\n",
    "property = last_image.get('system:time_start').getInfo()\n",
    "\n",
    "task_config = {\n",
    "        'image':last_image,\n",
    "        'description': 'MOD10A1_SCI_CCI_' + property,\n",
    "        'scale': 500,\n",
    "        'region':territorio_nacional.geometry(),\n",
    "        'maxPixels': 1E8,\n",
    "        'folder': 'SCI&CCI'\n",
    "    }\n",
    "    \n",
    "task = ee.batch.Export.image.toDrive(**task_config)\n",
    "task.start()"
   ]
  },
  {
   "cell_type": "code",
   "execution_count": 49,
   "metadata": {},
   "outputs": [
    {
     "data": {
      "application/vnd.jupyter.widget-view+json": {
       "model_id": "a7a3a410252d48338ebb5dfa6a0666eb",
       "version_major": 2,
       "version_minor": 0
      },
      "text/plain": [
       "Map(center=[20, 0], controls=(WidgetControl(options=['position', 'transparent_bg'], widget=HBox(children=(Togg…"
      ]
     },
     "metadata": {},
     "output_type": "display_data"
    }
   ],
   "source": [
    "# Se llama a la funcion map desde la libreria geemap\n",
    "Map = geemap.Map()\n",
    "Map"
   ]
  },
  {
   "cell_type": "code",
   "execution_count": 55,
   "metadata": {},
   "outputs": [],
   "source": [
    "# Parametros de visualizacion del mapa\n",
    "colorizedVis_SCI = {\n",
    "  'min': 0.0,\n",
    "  'max': 100.0,\n",
    "  'palette': ['black', '0dffff', '0524ff', 'ffffff']\n",
    "}\n",
    "\n",
    "colorizedVis_CCI = {\n",
    "  'min': 0.0,\n",
    "  'max': 100.0,\n",
    "  'palette': ['ffffff', '0dffff', '0524ff', 'gray'] \n",
    "}\n",
    "\n",
    "Map.addLayer(last_image.clip(territorio_nacional).select('SCI'), colorizedVis_SCI, 'SCI')\n",
    "Map.addLayer(last_image.clip(territorio_nacional).select('CCI'), colorizedVis_CCI, 'CCI')\n",
    "\n",
    "Map.centerObject(territorio_nacional, 5)"
   ]
  },
  {
   "cell_type": "code",
   "execution_count": null,
   "metadata": {},
   "outputs": [],
   "source": []
  }
 ],
 "metadata": {
  "kernelspec": {
   "display_name": "Python 3",
   "language": "python",
   "name": "python3"
  },
  "language_info": {
   "codemirror_mode": {
    "name": "ipython",
    "version": 3
   },
   "file_extension": ".py",
   "mimetype": "text/x-python",
   "name": "python",
   "nbconvert_exporter": "python",
   "pygments_lexer": "ipython3",
   "version": "3.6.9"
  }
 },
 "nbformat": 4,
 "nbformat_minor": 5
}
